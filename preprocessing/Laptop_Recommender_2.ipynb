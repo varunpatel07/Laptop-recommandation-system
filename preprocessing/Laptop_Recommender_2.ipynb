{
  "nbformat": 4,
  "nbformat_minor": 0,
  "metadata": {
    "colab": {
      "name": "Laptop Recommender 2.ipynb",
      "provenance": []
    },
    "kernelspec": {
      "name": "python3",
      "display_name": "Python 3",
      "language": "python"
    }
  },
  "cells": [
    {
      "source": [
        "# IMPORTING LIBRARIES"
      ],
      "cell_type": "markdown",
      "metadata": {}
    },
    {
      "cell_type": "code",
      "metadata": {
        "id": "UaNkFN2IcYND"
      },
      "source": [
        "#importing all important librarie\n",
        "import numpy as np\n",
        "import pandas as pd\n",
        "from sklearn.feature_extraction.text import TfidfVectorizer #to create vector using specification\n",
        "from sklearn.metrics.pairwise import cosine_similarity #calculate euclidian distance\n",
        "import pickle\n",
        "import json"
      ],
      "execution_count": 1,
      "outputs": []
    },
    {
      "cell_type": "code",
      "metadata": {
        "id": "O7D2rrXvcfzW"
      },
      "source": [
        "df = pd.read_csv(r'E:\\Major project\\LAPTOP\\dataset\\ALL_LAPTOPS.csv')"
      ],
      "execution_count": 2,
      "outputs": []
    },
    {
      "cell_type": "code",
      "metadata": {
        "id": "rd4iebv8cjaO"
      },
      "source": [
        "df.shape"
      ],
      "execution_count": 3,
      "outputs": [
        {
          "output_type": "execute_result",
          "data": {
            "text/plain": [
              "(5592, 11)"
            ]
          },
          "metadata": {},
          "execution_count": 3
        }
      ]
    },
    {
      "cell_type": "markdown",
      "metadata": {
        "id": "dha7aQIfdTly"
      },
      "source": [
        "# PRE PROCESSING\n"
      ]
    },
    {
      "source": [
        "  <h2><i>Here iam removing the spaces between the words in data.</h2></i>"
      ],
      "cell_type": "markdown",
      "metadata": {}
    },
    {
      "cell_type": "code",
      "metadata": {
        "id": "0Yc-2CfUclgf"
      },
      "source": [
        "df['PROCESSOR']=df['PROCESSOR'].str.replace(\" \",\"\")\n",
        "df['GRAPHIC_CARD']=df['GRAPHIC_CARD'].str.replace(\" \",\"\")\n",
        "df['OPERATING_SYSTEM']=df['OPERATING_SYSTEM'].str.replace(\" \",\"\")\n",
        "df[\"PRICE\"]=df[\"PRICE\"].astype(str)\n",
        "df[\"HDD\"]=df[\"HDD\"].str.replace(\" \",\"\")\n",
        "df[\"SSD\"]=df[\"SSD\"].str.replace(\" \",\"\")\n",
        "df[\"PRODUCT\"]=df[\"PRODUCT\"].apply(lambda x:x.split('(')[0])\n",
        "df.head()"
      ],
      "execution_count": 4,
      "outputs": [
        {
          "output_type": "execute_result",
          "data": {
            "text/plain": [
              "  BRAND                                  PRODUCT          PROCESSOR      RAM  \\\n",
              "0  Acer       Acer Predator 21 X GX21-71 Laptop   IntelCorei77thGen  64GBRAM   \n",
              "1  Acer       Acer Predator Triton 700 PT715-51   IntelCorei77thGen  16GBRAM   \n",
              "2  Acer         Acer Predator Triton 900 Laptop   IntelCorei78thGen  16GBRAM   \n",
              "3  Acer                    Acer Predator G9-793   IntelCorei77thGen  16GBRAM   \n",
              "4  Acer  Acer Predator Helios 700 Gaming Laptop   IntelCorei99thGen  32GBRAM   \n",
              "\n",
              "      HDD       SSD            GRAPHIC_CARD  DISPLAY OPERATING_SYSTEM   PRICE  \\\n",
              "0  1TBHDD    1TBSSD  16GBNVIDIAGraphicsCard     21.0        Windows10  700000   \n",
              "1  1TBHDD     NOSSD   8GBNVIDIAGraphicsCard     15.6        Windows10  300000   \n",
              "2   NOHDD  512GBSSD   8GBNVIDIAGraphicsCard     17.3        Windows10  300000   \n",
              "3  2TBHDD   256GBSD   8GBNVIDIAGraphicsCard     17.3        Windows10  190000   \n",
              "4  2TBHDD     NOSSD   8GBNVIDIAGraphicsCard     17.3        Windows10  188000   \n",
              "\n",
              "                                               IMAGE  \n",
              "0  https://cdn1.smartprix.com/rx-iQJZ4Kekd-w103-h...  \n",
              "1  https://cdn1.smartprix.com/rx-iyRu0raJw-w103-h...  \n",
              "2  https://cdn1.smartprix.com/rx-i03FnxkQz-w103-h...  \n",
              "3  https://cdn1.smartprix.com/rx-ivQStJyZL-w103-h...  \n",
              "4  https://cdn1.smartprix.com/rx-ibqrzzQad-w103-h...  "
            ],
            "text/html": "<div>\n<style scoped>\n    .dataframe tbody tr th:only-of-type {\n        vertical-align: middle;\n    }\n\n    .dataframe tbody tr th {\n        vertical-align: top;\n    }\n\n    .dataframe thead th {\n        text-align: right;\n    }\n</style>\n<table border=\"1\" class=\"dataframe\">\n  <thead>\n    <tr style=\"text-align: right;\">\n      <th></th>\n      <th>BRAND</th>\n      <th>PRODUCT</th>\n      <th>PROCESSOR</th>\n      <th>RAM</th>\n      <th>HDD</th>\n      <th>SSD</th>\n      <th>GRAPHIC_CARD</th>\n      <th>DISPLAY</th>\n      <th>OPERATING_SYSTEM</th>\n      <th>PRICE</th>\n      <th>IMAGE</th>\n    </tr>\n  </thead>\n  <tbody>\n    <tr>\n      <th>0</th>\n      <td>Acer</td>\n      <td>Acer Predator 21 X GX21-71 Laptop</td>\n      <td>IntelCorei77thGen</td>\n      <td>64GBRAM</td>\n      <td>1TBHDD</td>\n      <td>1TBSSD</td>\n      <td>16GBNVIDIAGraphicsCard</td>\n      <td>21.0</td>\n      <td>Windows10</td>\n      <td>700000</td>\n      <td>https://cdn1.smartprix.com/rx-iQJZ4Kekd-w103-h...</td>\n    </tr>\n    <tr>\n      <th>1</th>\n      <td>Acer</td>\n      <td>Acer Predator Triton 700 PT715-51</td>\n      <td>IntelCorei77thGen</td>\n      <td>16GBRAM</td>\n      <td>1TBHDD</td>\n      <td>NOSSD</td>\n      <td>8GBNVIDIAGraphicsCard</td>\n      <td>15.6</td>\n      <td>Windows10</td>\n      <td>300000</td>\n      <td>https://cdn1.smartprix.com/rx-iyRu0raJw-w103-h...</td>\n    </tr>\n    <tr>\n      <th>2</th>\n      <td>Acer</td>\n      <td>Acer Predator Triton 900 Laptop</td>\n      <td>IntelCorei78thGen</td>\n      <td>16GBRAM</td>\n      <td>NOHDD</td>\n      <td>512GBSSD</td>\n      <td>8GBNVIDIAGraphicsCard</td>\n      <td>17.3</td>\n      <td>Windows10</td>\n      <td>300000</td>\n      <td>https://cdn1.smartprix.com/rx-i03FnxkQz-w103-h...</td>\n    </tr>\n    <tr>\n      <th>3</th>\n      <td>Acer</td>\n      <td>Acer Predator G9-793</td>\n      <td>IntelCorei77thGen</td>\n      <td>16GBRAM</td>\n      <td>2TBHDD</td>\n      <td>256GBSD</td>\n      <td>8GBNVIDIAGraphicsCard</td>\n      <td>17.3</td>\n      <td>Windows10</td>\n      <td>190000</td>\n      <td>https://cdn1.smartprix.com/rx-ivQStJyZL-w103-h...</td>\n    </tr>\n    <tr>\n      <th>4</th>\n      <td>Acer</td>\n      <td>Acer Predator Helios 700 Gaming Laptop</td>\n      <td>IntelCorei99thGen</td>\n      <td>32GBRAM</td>\n      <td>2TBHDD</td>\n      <td>NOSSD</td>\n      <td>8GBNVIDIAGraphicsCard</td>\n      <td>17.3</td>\n      <td>Windows10</td>\n      <td>188000</td>\n      <td>https://cdn1.smartprix.com/rx-ibqrzzQad-w103-h...</td>\n    </tr>\n  </tbody>\n</table>\n</div>"
          },
          "metadata": {},
          "execution_count": 4
        }
      ]
    },
    {
      "cell_type": "code",
      "metadata": {
        "id": "svpB0hYxcm5G"
      },
      "source": [
        "df.drop([\"IMAGE\"],axis=1,inplace=True)\n",
        "df.head()"
      ],
      "execution_count": 5,
      "outputs": [
        {
          "output_type": "execute_result",
          "data": {
            "text/plain": [
              "  BRAND                                  PRODUCT          PROCESSOR      RAM  \\\n",
              "0  Acer       Acer Predator 21 X GX21-71 Laptop   IntelCorei77thGen  64GBRAM   \n",
              "1  Acer       Acer Predator Triton 700 PT715-51   IntelCorei77thGen  16GBRAM   \n",
              "2  Acer         Acer Predator Triton 900 Laptop   IntelCorei78thGen  16GBRAM   \n",
              "3  Acer                    Acer Predator G9-793   IntelCorei77thGen  16GBRAM   \n",
              "4  Acer  Acer Predator Helios 700 Gaming Laptop   IntelCorei99thGen  32GBRAM   \n",
              "\n",
              "      HDD       SSD            GRAPHIC_CARD  DISPLAY OPERATING_SYSTEM   PRICE  \n",
              "0  1TBHDD    1TBSSD  16GBNVIDIAGraphicsCard     21.0        Windows10  700000  \n",
              "1  1TBHDD     NOSSD   8GBNVIDIAGraphicsCard     15.6        Windows10  300000  \n",
              "2   NOHDD  512GBSSD   8GBNVIDIAGraphicsCard     17.3        Windows10  300000  \n",
              "3  2TBHDD   256GBSD   8GBNVIDIAGraphicsCard     17.3        Windows10  190000  \n",
              "4  2TBHDD     NOSSD   8GBNVIDIAGraphicsCard     17.3        Windows10  188000  "
            ],
            "text/html": "<div>\n<style scoped>\n    .dataframe tbody tr th:only-of-type {\n        vertical-align: middle;\n    }\n\n    .dataframe tbody tr th {\n        vertical-align: top;\n    }\n\n    .dataframe thead th {\n        text-align: right;\n    }\n</style>\n<table border=\"1\" class=\"dataframe\">\n  <thead>\n    <tr style=\"text-align: right;\">\n      <th></th>\n      <th>BRAND</th>\n      <th>PRODUCT</th>\n      <th>PROCESSOR</th>\n      <th>RAM</th>\n      <th>HDD</th>\n      <th>SSD</th>\n      <th>GRAPHIC_CARD</th>\n      <th>DISPLAY</th>\n      <th>OPERATING_SYSTEM</th>\n      <th>PRICE</th>\n    </tr>\n  </thead>\n  <tbody>\n    <tr>\n      <th>0</th>\n      <td>Acer</td>\n      <td>Acer Predator 21 X GX21-71 Laptop</td>\n      <td>IntelCorei77thGen</td>\n      <td>64GBRAM</td>\n      <td>1TBHDD</td>\n      <td>1TBSSD</td>\n      <td>16GBNVIDIAGraphicsCard</td>\n      <td>21.0</td>\n      <td>Windows10</td>\n      <td>700000</td>\n    </tr>\n    <tr>\n      <th>1</th>\n      <td>Acer</td>\n      <td>Acer Predator Triton 700 PT715-51</td>\n      <td>IntelCorei77thGen</td>\n      <td>16GBRAM</td>\n      <td>1TBHDD</td>\n      <td>NOSSD</td>\n      <td>8GBNVIDIAGraphicsCard</td>\n      <td>15.6</td>\n      <td>Windows10</td>\n      <td>300000</td>\n    </tr>\n    <tr>\n      <th>2</th>\n      <td>Acer</td>\n      <td>Acer Predator Triton 900 Laptop</td>\n      <td>IntelCorei78thGen</td>\n      <td>16GBRAM</td>\n      <td>NOHDD</td>\n      <td>512GBSSD</td>\n      <td>8GBNVIDIAGraphicsCard</td>\n      <td>17.3</td>\n      <td>Windows10</td>\n      <td>300000</td>\n    </tr>\n    <tr>\n      <th>3</th>\n      <td>Acer</td>\n      <td>Acer Predator G9-793</td>\n      <td>IntelCorei77thGen</td>\n      <td>16GBRAM</td>\n      <td>2TBHDD</td>\n      <td>256GBSD</td>\n      <td>8GBNVIDIAGraphicsCard</td>\n      <td>17.3</td>\n      <td>Windows10</td>\n      <td>190000</td>\n    </tr>\n    <tr>\n      <th>4</th>\n      <td>Acer</td>\n      <td>Acer Predator Helios 700 Gaming Laptop</td>\n      <td>IntelCorei99thGen</td>\n      <td>32GBRAM</td>\n      <td>2TBHDD</td>\n      <td>NOSSD</td>\n      <td>8GBNVIDIAGraphicsCard</td>\n      <td>17.3</td>\n      <td>Windows10</td>\n      <td>188000</td>\n    </tr>\n  </tbody>\n</table>\n</div>"
          },
          "metadata": {},
          "execution_count": 5
        }
      ]
    },
    {
      "source": [
        " <h2><i>Im cobaining all the columns into one single dataframe called specifications.</h2></i>"
      ],
      "cell_type": "markdown",
      "metadata": {}
    },
    {
      "cell_type": "code",
      "metadata": {
        "id": "BE1ogBv0cnlG"
      },
      "source": [
        "df[\"specification\"]=df['BRAND']+\" \"+df['PROCESSOR']+\" \"+df['RAM']+\" \"+df[\"HDD\"]+\" \"+df['SSD']+\" \"+df['GRAPHIC_CARD']+\" \"+df['DISPLAY'].astype(str)+\" \"+df['OPERATING_SYSTEM']+\" \"+df['PRICE']\n",
        "df.head()"
      ],
      "execution_count": 6,
      "outputs": [
        {
          "output_type": "execute_result",
          "data": {
            "text/plain": [
              "  BRAND                                  PRODUCT          PROCESSOR      RAM  \\\n",
              "0  Acer       Acer Predator 21 X GX21-71 Laptop   IntelCorei77thGen  64GBRAM   \n",
              "1  Acer       Acer Predator Triton 700 PT715-51   IntelCorei77thGen  16GBRAM   \n",
              "2  Acer         Acer Predator Triton 900 Laptop   IntelCorei78thGen  16GBRAM   \n",
              "3  Acer                    Acer Predator G9-793   IntelCorei77thGen  16GBRAM   \n",
              "4  Acer  Acer Predator Helios 700 Gaming Laptop   IntelCorei99thGen  32GBRAM   \n",
              "\n",
              "      HDD       SSD            GRAPHIC_CARD  DISPLAY OPERATING_SYSTEM   PRICE  \\\n",
              "0  1TBHDD    1TBSSD  16GBNVIDIAGraphicsCard     21.0        Windows10  700000   \n",
              "1  1TBHDD     NOSSD   8GBNVIDIAGraphicsCard     15.6        Windows10  300000   \n",
              "2   NOHDD  512GBSSD   8GBNVIDIAGraphicsCard     17.3        Windows10  300000   \n",
              "3  2TBHDD   256GBSD   8GBNVIDIAGraphicsCard     17.3        Windows10  190000   \n",
              "4  2TBHDD     NOSSD   8GBNVIDIAGraphicsCard     17.3        Windows10  188000   \n",
              "\n",
              "                                       specification  \n",
              "0  Acer IntelCorei77thGen 64GBRAM 1TBHDD 1TBSSD 1...  \n",
              "1  Acer IntelCorei77thGen 16GBRAM 1TBHDD NOSSD 8G...  \n",
              "2  Acer IntelCorei78thGen 16GBRAM NOHDD 512GBSSD ...  \n",
              "3  Acer IntelCorei77thGen 16GBRAM 2TBHDD 256GBSD ...  \n",
              "4  Acer IntelCorei99thGen 32GBRAM 2TBHDD NOSSD 8G...  "
            ],
            "text/html": "<div>\n<style scoped>\n    .dataframe tbody tr th:only-of-type {\n        vertical-align: middle;\n    }\n\n    .dataframe tbody tr th {\n        vertical-align: top;\n    }\n\n    .dataframe thead th {\n        text-align: right;\n    }\n</style>\n<table border=\"1\" class=\"dataframe\">\n  <thead>\n    <tr style=\"text-align: right;\">\n      <th></th>\n      <th>BRAND</th>\n      <th>PRODUCT</th>\n      <th>PROCESSOR</th>\n      <th>RAM</th>\n      <th>HDD</th>\n      <th>SSD</th>\n      <th>GRAPHIC_CARD</th>\n      <th>DISPLAY</th>\n      <th>OPERATING_SYSTEM</th>\n      <th>PRICE</th>\n      <th>specification</th>\n    </tr>\n  </thead>\n  <tbody>\n    <tr>\n      <th>0</th>\n      <td>Acer</td>\n      <td>Acer Predator 21 X GX21-71 Laptop</td>\n      <td>IntelCorei77thGen</td>\n      <td>64GBRAM</td>\n      <td>1TBHDD</td>\n      <td>1TBSSD</td>\n      <td>16GBNVIDIAGraphicsCard</td>\n      <td>21.0</td>\n      <td>Windows10</td>\n      <td>700000</td>\n      <td>Acer IntelCorei77thGen 64GBRAM 1TBHDD 1TBSSD 1...</td>\n    </tr>\n    <tr>\n      <th>1</th>\n      <td>Acer</td>\n      <td>Acer Predator Triton 700 PT715-51</td>\n      <td>IntelCorei77thGen</td>\n      <td>16GBRAM</td>\n      <td>1TBHDD</td>\n      <td>NOSSD</td>\n      <td>8GBNVIDIAGraphicsCard</td>\n      <td>15.6</td>\n      <td>Windows10</td>\n      <td>300000</td>\n      <td>Acer IntelCorei77thGen 16GBRAM 1TBHDD NOSSD 8G...</td>\n    </tr>\n    <tr>\n      <th>2</th>\n      <td>Acer</td>\n      <td>Acer Predator Triton 900 Laptop</td>\n      <td>IntelCorei78thGen</td>\n      <td>16GBRAM</td>\n      <td>NOHDD</td>\n      <td>512GBSSD</td>\n      <td>8GBNVIDIAGraphicsCard</td>\n      <td>17.3</td>\n      <td>Windows10</td>\n      <td>300000</td>\n      <td>Acer IntelCorei78thGen 16GBRAM NOHDD 512GBSSD ...</td>\n    </tr>\n    <tr>\n      <th>3</th>\n      <td>Acer</td>\n      <td>Acer Predator G9-793</td>\n      <td>IntelCorei77thGen</td>\n      <td>16GBRAM</td>\n      <td>2TBHDD</td>\n      <td>256GBSD</td>\n      <td>8GBNVIDIAGraphicsCard</td>\n      <td>17.3</td>\n      <td>Windows10</td>\n      <td>190000</td>\n      <td>Acer IntelCorei77thGen 16GBRAM 2TBHDD 256GBSD ...</td>\n    </tr>\n    <tr>\n      <th>4</th>\n      <td>Acer</td>\n      <td>Acer Predator Helios 700 Gaming Laptop</td>\n      <td>IntelCorei99thGen</td>\n      <td>32GBRAM</td>\n      <td>2TBHDD</td>\n      <td>NOSSD</td>\n      <td>8GBNVIDIAGraphicsCard</td>\n      <td>17.3</td>\n      <td>Windows10</td>\n      <td>188000</td>\n      <td>Acer IntelCorei99thGen 32GBRAM 2TBHDD NOSSD 8G...</td>\n    </tr>\n  </tbody>\n</table>\n</div>"
          },
          "metadata": {},
          "execution_count": 6
        }
      ]
    },
    {
      "source": [
        "<h2><i>I've dropped all the columns except 'Specifications and product' columns because that specifications column contains data of every column. </h2></i>"
      ],
      "cell_type": "markdown",
      "metadata": {}
    },
    {
      "cell_type": "code",
      "metadata": {
        "id": "_MPOiQEUcpuO"
      },
      "source": [
        "df.drop([\"BRAND\",\"PROCESSOR\",\"RAM\",\"HDD\",\"SSD\",\"GRAPHIC_CARD\",\"DISPLAY\",\"OPERATING_SYSTEM\",\"PRICE\"],axis=1,inplace=True)"
      ],
      "execution_count": 7,
      "outputs": []
    },
    {
      "source": [
        "<h2><i> Here i'm all the products and specifications into lower case because and removing all the spaces from forward and backword of every product.</h2></i>"
      ],
      "cell_type": "markdown",
      "metadata": {}
    },
    {
      "cell_type": "code",
      "metadata": {
        "id": "Wv0hkUOEcsd3"
      },
      "source": [
        "df2=df.copy()\n",
        "df2.head()\n",
        "df2[\"PRODUCT\"]=df2[\"PRODUCT\"].apply(lambda x:x.lower())\n",
        "df2[\"PRODUCT\"]=df2[\"PRODUCT\"].apply(lambda x:x.strip())\n",
        "df2[\"specification\"]=df2[\"specification\"].apply(lambda x:x.lower())"
      ],
      "execution_count": 8,
      "outputs": []
    },
    {
      "cell_type": "code",
      "metadata": {
        "id": "Xjbua6Mbct2A"
      },
      "source": [
        "df2.set_index(\"PRODUCT\",inplace=True)"
      ],
      "execution_count": 9,
      "outputs": []
    },
    {
      "cell_type": "code",
      "metadata": {
        "id": "Sw0GJUMycu7u"
      },
      "source": [
        "df2.head()"
      ],
      "execution_count": 10,
      "outputs": [
        {
          "output_type": "execute_result",
          "data": {
            "text/plain": [
              "                                                                            specification\n",
              "PRODUCT                                                                                  \n",
              "acer predator 21 x gx21-71 laptop       acer intelcorei77thgen 64gbram 1tbhdd 1tbssd 1...\n",
              "acer predator triton 700 pt715-51       acer intelcorei77thgen 16gbram 1tbhdd nossd 8g...\n",
              "acer predator triton 900 laptop         acer intelcorei78thgen 16gbram nohdd 512gbssd ...\n",
              "acer predator g9-793                    acer intelcorei77thgen 16gbram 2tbhdd 256gbsd ...\n",
              "acer predator helios 700 gaming laptop  acer intelcorei99thgen 32gbram 2tbhdd nossd 8g..."
            ],
            "text/html": "<div>\n<style scoped>\n    .dataframe tbody tr th:only-of-type {\n        vertical-align: middle;\n    }\n\n    .dataframe tbody tr th {\n        vertical-align: top;\n    }\n\n    .dataframe thead th {\n        text-align: right;\n    }\n</style>\n<table border=\"1\" class=\"dataframe\">\n  <thead>\n    <tr style=\"text-align: right;\">\n      <th></th>\n      <th>specification</th>\n    </tr>\n    <tr>\n      <th>PRODUCT</th>\n      <th></th>\n    </tr>\n  </thead>\n  <tbody>\n    <tr>\n      <th>acer predator 21 x gx21-71 laptop</th>\n      <td>acer intelcorei77thgen 64gbram 1tbhdd 1tbssd 1...</td>\n    </tr>\n    <tr>\n      <th>acer predator triton 700 pt715-51</th>\n      <td>acer intelcorei77thgen 16gbram 1tbhdd nossd 8g...</td>\n    </tr>\n    <tr>\n      <th>acer predator triton 900 laptop</th>\n      <td>acer intelcorei78thgen 16gbram nohdd 512gbssd ...</td>\n    </tr>\n    <tr>\n      <th>acer predator g9-793</th>\n      <td>acer intelcorei77thgen 16gbram 2tbhdd 256gbsd ...</td>\n    </tr>\n    <tr>\n      <th>acer predator helios 700 gaming laptop</th>\n      <td>acer intelcorei99thgen 32gbram 2tbhdd nossd 8g...</td>\n    </tr>\n  </tbody>\n</table>\n</div>"
          },
          "metadata": {},
          "execution_count": 10
        }
      ]
    },
    {
      "source": [
        "<h2><i>Im saving the above dataframe as a csv file for future use contains (products,specification).</h2></i>"
      ],
      "cell_type": "markdown",
      "metadata": {}
    },
    {
      "cell_type": "code",
      "metadata": {
        "id": "VluLtgfKcweO"
      },
      "source": [
        "df2.to_csv (r'E:\\Major project\\LAPTOP\\dataset\\export_dataframe.csv', index = True, header=True)"
      ],
      "execution_count": 11,
      "outputs": []
    },
    {
      "cell_type": "code",
      "metadata": {
        "id": "5R1R7I8Vcx4O"
      },
      "source": [
        "df2.specification[0]"
      ],
      "execution_count": 12,
      "outputs": [
        {
          "output_type": "execute_result",
          "data": {
            "text/plain": [
              "'acer intelcorei77thgen 64gbram 1tbhdd 1tbssd 16gbnvidiagraphicscard 21.0 windows10 700000'"
            ]
          },
          "metadata": {},
          "execution_count": 12
        }
      ]
    },
    {
      "source": [
        "<h2><i> Making vectors for all specification so that euclidian distance can be measured between two point. And here im finding the distances for specification column..</h2></i>"
      ],
      "cell_type": "markdown",
      "metadata": {}
    },
    {
      "cell_type": "code",
      "metadata": {
        "id": "MnlZgpmjc0Ke"
      },
      "source": [
        "vectorizer = TfidfVectorizer() \n",
        "model = vectorizer.fit_transform(df2['specification'])"
      ],
      "execution_count": 13,
      "outputs": []
    },
    {
      "cell_type": "code",
      "execution_count": 14,
      "metadata": {},
      "outputs": [
        {
          "output_type": "execute_result",
          "data": {
            "text/plain": [
              "(1, 3318)"
            ]
          },
          "metadata": {},
          "execution_count": 14
        }
      ],
      "source": [
        "a=vectorizer.transform([\"acer intelcorei77thgen 64gb 1tb 1tb 16gbnvidiagraphicscard 21.0 windows10 700000\"])\n",
        "a.shape"
      ]
    },
    {
      "cell_type": "code",
      "execution_count": 15,
      "metadata": {},
      "outputs": [
        {
          "output_type": "execute_result",
          "data": {
            "text/plain": [
              "array([[0., 0., 0., ..., 0., 0., 0.]])"
            ]
          },
          "metadata": {},
          "execution_count": 15
        }
      ],
      "source": [
        "a.toarray()"
      ]
    },
    {
      "cell_type": "code",
      "execution_count": 16,
      "metadata": {},
      "outputs": [
        {
          "output_type": "execute_result",
          "data": {
            "text/plain": [
              "[array(['16gbnvidiagraphicscard', '21', '64gb', '700000', 'acer',\n",
              "        'intelcorei77thgen', 'windows10'], dtype='<U40')]"
            ]
          },
          "metadata": {},
          "execution_count": 16
        }
      ],
      "source": [
        "vectorizer.inverse_transform(a.toarray())"
      ]
    },
    {
      "source": [
        "## ***All the transformed vectors are saved in a model vector_class for further use***"
      ],
      "cell_type": "markdown",
      "metadata": {}
    },
    {
      "cell_type": "code",
      "metadata": {
        "id": "m-PLoCaHc4g-"
      },
      "source": [
        "with open('vector_class','wb') as  f:\n",
        "  pickle.dump(vectorizer,f)"
      ],
      "execution_count": 17,
      "outputs": []
    },
    {
      "cell_type": "code",
      "metadata": {
        "id": "CO1_ynqec6W5"
      },
      "source": [
        "model.shape"
      ],
      "execution_count": 18,
      "outputs": [
        {
          "output_type": "execute_result",
          "data": {
            "text/plain": [
              "(5592, 3318)"
            ]
          },
          "metadata": {},
          "execution_count": 18
        }
      ]
    },
    {
      "source": [
        "## ***we get these feature when we pass laptop name as argument(poor way since we get less features)shape(1,1335)***"
      ],
      "cell_type": "markdown",
      "metadata": {}
    },
    {
      "cell_type": "code",
      "metadata": {
        "id": "rqgvLvIvc7Z3"
      },
      "source": [
        "d=vectorizer.transform([\"acer predator 21 x gx21-71 laptop\"])\n",
        "vectorizer.inverse_transform(d.toarray())"
      ],
      "execution_count": 19,
      "outputs": [
        {
          "output_type": "execute_result",
          "data": {
            "text/plain": [
              "[array(['21', 'acer'], dtype='<U40')]"
            ]
          },
          "metadata": {},
          "execution_count": 19
        }
      ]
    },
    {
      "source": [
        "## ***we get these feature when we pass specification of pc(more efficient),shape(1,1335)***"
      ],
      "cell_type": "markdown",
      "metadata": {}
    },
    {
      "cell_type": "code",
      "metadata": {
        "id": "1ZE2hp79c8lG"
      },
      "source": [
        "d=vectorizer.transform([\"acer intelcorei77thgen 64gb 1tb 1tb 16gbnvidiagraphicscard 21.0 windows10 700000\"])\n",
        "vectorizer.inverse_transform(d.toarray())"
      ],
      "execution_count": 20,
      "outputs": [
        {
          "output_type": "execute_result",
          "data": {
            "text/plain": [
              "[array(['16gbnvidiagraphicscard', '21', '64gb', '700000', 'acer',\n",
              "        'intelcorei77thgen', 'windows10'], dtype='<U40')]"
            ]
          },
          "metadata": {},
          "execution_count": 20
        }
      ]
    },
    {
      "cell_type": "code",
      "metadata": {
        "id": "6R5DcOPMc-HC"
      },
      "source": [
        "#saving vectors of all training data\n",
        "with open('recommender_pickle','wb') as  f:\n",
        "  pickle.dump(model,f)"
      ],
      "execution_count": 21,
      "outputs": []
    },
    {
      "cell_type": "markdown",
      "metadata": {
        "id": "HvzdDkG-dNQP"
      },
      "source": [
        "# IMPLEMENTATION\n"
      ]
    },
    {
      "source": [],
      "cell_type": "markdown",
      "metadata": {}
    },
    {
      "source": [
        "## ***Here im saving all process in a file called recommender_pickle.So, we can just load this file insted of running all the cells.***"
      ],
      "cell_type": "markdown",
      "metadata": {}
    },
    {
      "cell_type": "code",
      "metadata": {
        "id": "1bXj27Xbc_p2"
      },
      "source": [
        "\n",
        "f=open('recommender_pickle','rb')\n",
        "recommendation = pickle.load(f)\n",
        "f.close()\n",
        "\n",
        "vec=open(\"vector_class\",\"rb\")\n",
        "vector_class=pickle.load(vec)\n",
        "vec.close()\n",
        "\n",
        "details=pd.read_csv(\"E:\\Major project\\LAPTOP\\dataset\\export_dataframe.csv\",index_col=\"PRODUCT\")\n",
        "details.head()"
      ],
      "execution_count": 22,
      "outputs": [
        {
          "output_type": "execute_result",
          "data": {
            "text/plain": [
              "                                                                            specification\n",
              "PRODUCT                                                                                  \n",
              "acer predator 21 x gx21-71 laptop       acer intelcorei77thgen 64gbram 1tbhdd 1tbssd 1...\n",
              "acer predator triton 700 pt715-51       acer intelcorei77thgen 16gbram 1tbhdd nossd 8g...\n",
              "acer predator triton 900 laptop         acer intelcorei78thgen 16gbram nohdd 512gbssd ...\n",
              "acer predator g9-793                    acer intelcorei77thgen 16gbram 2tbhdd 256gbsd ...\n",
              "acer predator helios 700 gaming laptop  acer intelcorei99thgen 32gbram 2tbhdd nossd 8g..."
            ],
            "text/html": "<div>\n<style scoped>\n    .dataframe tbody tr th:only-of-type {\n        vertical-align: middle;\n    }\n\n    .dataframe tbody tr th {\n        vertical-align: top;\n    }\n\n    .dataframe thead th {\n        text-align: right;\n    }\n</style>\n<table border=\"1\" class=\"dataframe\">\n  <thead>\n    <tr style=\"text-align: right;\">\n      <th></th>\n      <th>specification</th>\n    </tr>\n    <tr>\n      <th>PRODUCT</th>\n      <th></th>\n    </tr>\n  </thead>\n  <tbody>\n    <tr>\n      <th>acer predator 21 x gx21-71 laptop</th>\n      <td>acer intelcorei77thgen 64gbram 1tbhdd 1tbssd 1...</td>\n    </tr>\n    <tr>\n      <th>acer predator triton 700 pt715-51</th>\n      <td>acer intelcorei77thgen 16gbram 1tbhdd nossd 8g...</td>\n    </tr>\n    <tr>\n      <th>acer predator triton 900 laptop</th>\n      <td>acer intelcorei78thgen 16gbram nohdd 512gbssd ...</td>\n    </tr>\n    <tr>\n      <th>acer predator g9-793</th>\n      <td>acer intelcorei77thgen 16gbram 2tbhdd 256gbsd ...</td>\n    </tr>\n    <tr>\n      <th>acer predator helios 700 gaming laptop</th>\n      <td>acer intelcorei99thgen 32gbram 2tbhdd nossd 8g...</td>\n    </tr>\n  </tbody>\n</table>\n</div>"
          },
          "metadata": {},
          "execution_count": 22
        }
      ]
    },
    {
      "cell_type": "code",
      "metadata": {
        "id": "NXbpGm12dBP2"
      },
      "source": [
        "details.loc[\"acer predator 21 x gx21-71 laptop\",\"specification\"]"
      ],
      "execution_count": 23,
      "outputs": [
        {
          "output_type": "execute_result",
          "data": {
            "text/plain": [
              "'acer intelcorei77thgen 64gbram 1tbhdd 1tbssd 16gbnvidiagraphicscard 21.0 windows10 700000'"
            ]
          },
          "metadata": {},
          "execution_count": 23
        }
      ]
    },
    {
      "source": [
        "## ***Here im defining functions called suggest and suggest_by_specs these both have their own importance for generation output.***"
      ],
      "cell_type": "markdown",
      "metadata": {}
    },
    {
      "cell_type": "code",
      "metadata": {
        "id": "Z9RYiLKhdDWa"
      },
      "source": [
        "def suggest(title):\n",
        "  title=title.lower()\n",
        "  if(title in details.index.tolist()):\n",
        "    suggest_by_spec(details.loc[title,\"specification\"]) #this will run when you pass full laptop name as argument\n",
        "  else:\n",
        "    suggest_by_spec(title) #this will run when you pass specification\n",
        "\n",
        "\n",
        "\n",
        "def suggest_by_spec(title):\n",
        "  title=vector_class.transform([title])\n",
        "  res=cosine_similarity(recommendation,title)\n",
        "  similarity = list(enumerate(res))\n",
        "  similarity_score = sorted(similarity , key=lambda x:x[1] , reverse=True)\n",
        "  similarity_score = similarity_score[:30]\n",
        "  lap_indices = [i[0] for i in similarity_score]\n",
        "  all_data=details.reset_index()\n",
        "  #c=zip()\n",
        "  #print(all_data.iloc[lap_indices,1].values)\n",
        "  print(all_data.iloc[lap_indices].values)\n",
        "\n",
        "suggest(\"acer predator 21 x gx21-71 laptop\") # i passed EXACT name of laptop"
      ],
      "execution_count": 28,
      "outputs": [
        {
          "output_type": "stream",
          "name": "stdout",
          "text": [
            "[['acer predator 21 x gx21-71 laptop'\n  'acer intelcorei77thgen 64gbram 1tbhdd 1tbssd 16gbnvidiagraphicscard 21.0 windows10 700000']\n ['lenovo thinkpad p53 20qqs0jd0c laptop'\n  'lenovo intelcorei79thgen 64gbram 1tbhdd nossd intelhd620 14.0 dos 45990']\n ['acer nitro 5 an515-51'\n  'acer intelcorei77thgen 16gbram nohdd 1tbssd 4gbnvidiagraphicscard 15.6 windows10 69900']\n ['asus rog mothership gz700gx gaming laptop'\n  'asus intelcorei98thgen 64gbram nohdd 512gbssd 8gbnvidiagraphicscard 17.3 windows10 350000']\n ['asus rog g703gi-e5148t laptop'\n  'asus intelcorei98thgen 64gbram 2tbhdd nossd 8gbnvidiagraphicscard 17.3 windows10 500000']\n ['asus zenbook 3 deluxe ux490ua-be010t ultrabook'\n  'asus intelcorei77thgen 16gbram nohdd 1tbssd intelhd620 14.0 windows10 88000']\n ['acer predator g9-593'\n  'acer intelcorei77thgen 16gbram 1tbhdd 256gbsd 6gbnvidiagraphicscard 15.6 windows10 120000']\n ['acer nitro 5 an515-51 notebook'\n  'acer intelcorei77thgen 16gbram 1tbhdd 128gbssd 4gbnvidiagraphicscard 15.6 windows10 89990']\n ['acer aspire vx 15'\n  'acer intelcorei77thgen 8gbram nohdd 512gbssd 4gbnvidiagraphicscard 15.6 windows10 69990']\n ['acer swift 5 sf514-51-706k'\n  'acer intelcorei77thgen 8gbram 1tbhdd 256gbsd intelhd620 14.0 windows10 121000']\n ['acer g3-572'\n  'acer intelcorei77thgen 8gbram 1tbhdd 128gbssd 4gbnvidiagraphicscard 15.6 windows10 87990']\n ['acer predator triton 700 pt715-51'\n  'acer intelcorei77thgen 16gbram 1tbhdd nossd 8gbnvidiagraphicscard 15.6 windows10 300000']\n ['acer conceptd 5 cn515-51 nx.c4jsi.001 laptop'\n  'acer intelcorei58thgen 16gbram nohdd 1tbssd 4gbamdgraphicscard 15.6 windows10 115000']\n ['acer nitro 7 an715-51 gaming laptop'\n  'acer intelcorei79thgen 8gbram nohdd 1tbssd 6gbnvidiagraphicscard 15.6 windows10 89990']\n ['acer nitro 5 an517-51'\n  'acer intelcorei79thgen 8gbram nohdd 1tbssd 4gbnvidiagraphicscard 17.3 windows10 79990']\n ['acer nitro 5 an515-51'\n  'acer intelcorei77thgen 8gbram nohdd 512gbssd 2gbnvidiagraphicscard 15.6 windows10 60990']\n ['acer sf314-51'\n  'acer intelcorei77thgen 8gbram 1tbhdd nossd intelintegratedhd620 14.0 windows10 61747']\n ['acer nitro 5 an515-51'\n  'acer intelcorei77thgen 8gbram nohdd 512gbssd 4gbnvidiagraphicscard 15.6 windows10 57490']\n ['acer spin 7 sp714-51'\n  'acer intelcorei77thgen 8gbram 1tbhdd 256gbsd intelintegratedhd615 14.0 windows10 120000']\n ['acer predator triton 700'\n  'acer intelcorei77thgen 16gbram nohdd 128gbssd 6gbnvidiagraphicscard 15.6 windows10 79990']\n ['acer predator 17 g9-793'\n  'acer intelcorei77thgen 16gbram 1tbhdd 256gbsd 6gbnvidiagraphicscard 17.3 windows10 100000']\n ['acer nitro 5 an515-51 notebook'\n  'acer intelcorei77thgen 8gbram nohdd 32gbssd 2gbnvidiagraphicscard 15.6 windows10 57990']\n ['acer predator triton 500'\n  'acer intelcorei79thgen 16gbram nohdd 1tbssd 6gbnvidiagraphicscard 15.6 windows10 166000']\n ['acer predator ph317-51-787b laptop'\n  'acer intelcorei77thgen 16gbram 1tbhdd 256gbsd 6gbnvidiagraphicscard 17.3 windows10 168000']\n ['hp pavilion x360 14-ba078tx laptop'\n  'hp intelcorei77thgen 8gbram 1tbhdd nossd intelintegrateduhd 15.6 windows10 39990']\n ['acer aspire r7-572g laptop'\n  'acer intelcorei5 8gbram nohdd 1tbssd 2gbnvidiagraphicscard 15.6 windows8 84799']\n ['asus rog gl553vd-fy103t notebook'\n  'asus intelcorei77thgen 8gbram 1tbhdd nossd 4gbnvidiagraphicscard 15.6 windows10 58990']\n ['asus fx503vd-dm111t laptop'\n  'asus intelcorei77thgen 8gbram 1tbhdd nossd 4gbnvidiagraphicscard 15.6 windows10 58990']\n ['asus fx553vd-dm013 laptop'\n  'asus intelcorei77thgen 8gbram 1tbhdd nossd 4gbnvidiagraphicscard 15.6 windows10 58990']\n ['asus rog gl553ve-fy047t notebook'\n  'asus intelcorei77thgen 8gbram 1tbhdd nossd 4gbnvidiagraphicscard 15.6 windows10 84990']]\n"
          ]
        }
      ]
    },
    {
      "source": [
        "## ***pass spec as argument... NOTE: these argument not required to be same you can make changes in sentence***"
      ],
      "cell_type": "markdown",
      "metadata": {}
    },
    {
      "cell_type": "code",
      "metadata": {
        "id": "QJKWmIkAdFa6"
      },
      "source": [
        "suggest(\"acer intelcorei77thgen 64gb 1tb 1tb 16gbnvidiagraphicscard 21.0 windows10 700000\") "
      ],
      "execution_count": 29,
      "outputs": [
        {
          "output_type": "stream",
          "name": "stdout",
          "text": [
            "[['acer predator 21 x gx21-71 laptop'\n  'acer intelcorei77thgen 64gbram 1tbhdd 1tbssd 16gbnvidiagraphicscard 21.0 windows10 700000']\n ['hp pavilion 15-n213tu laptop'\n  'hp intelcorei3 4gbram 500gb 64gb inteluhd620 15.0 windows10 39990']\n ['hp compaq 15-s001tu notebook'\n  'hp intelcorei3 4gbram 500gb 64gb intelhdgraphics4000 13.3 windows10 52000']\n ['lenovo ideapad 320s-14ikb'\n  'lenovo intelcorei57thgen 8gbram nohdd 64gb amdradeonr4 14.0 chrome 21999']\n ['hp 440 g1 probook'\n  'hp intelcorei5 4gbram 500gb 64gb intelgraphicsmediaaccelerator 11.6 windows10 41500']\n ['hp chromebook x360 12b-ca0006tu laptop'\n  'hp intelceleronn4000 4gbram nohdd 64gb intelhdgraphics4000 14.0 windows8 41980']\n ['hp stream 14-cb180nr'\n  'hp intelceleronn4000 4gbram nohdd 64gb intelhdgraphics4000 15.6 windows8 33970']\n ['lenovo ideapad s540 81nd003vin laptop'\n  'lenovo intelcorei58thgen 8gbram nohdd 64gb inteluhdgraphics600 10.1 windows10 31970']\n ['hp 440g1-j7v43pa probook'\n  'hp intelmcorei3 4gbram 500gb 64gb intelhdgraphics4000 13.3 windows10 69062']\n ['asus e406sa-ds21 laptop'\n  'asus intelpentiumn3710 4gbram nohdd 64gb intelhd405 14.0 windows10 39408']\n ['acer aspire vx 15'\n  'acer intelcorei77thgen 8gbram nohdd 512gbssd 4gbnvidiagraphicscard 15.6 windows10 69990']\n ['acer nitro 5 an515-51'\n  'acer intelcorei77thgen 8gbram nohdd 512gbssd 2gbnvidiagraphicscard 15.6 windows10 60990']\n ['acer predator g9-593'\n  'acer intelcorei77thgen 16gbram 1tbhdd 256gbsd 6gbnvidiagraphicscard 15.6 windows10 120000']\n ['acer nitro 5 an515-51 notebook'\n  'acer intelcorei77thgen 16gbram 1tbhdd 128gbssd 4gbnvidiagraphicscard 15.6 windows10 89990']\n ['acer nitro 5 an515-51'\n  'acer intelcorei77thgen 8gbram nohdd 512gbssd 4gbnvidiagraphicscard 15.6 windows10 57490']\n ['acer swift 5 sf514-51-706k'\n  'acer intelcorei77thgen 8gbram 1tbhdd 256gbsd intelhd620 14.0 windows10 121000']\n ['acer g3-572'\n  'acer intelcorei77thgen 8gbram 1tbhdd 128gbssd 4gbnvidiagraphicscard 15.6 windows10 87990']\n ['acer predator triton 700'\n  'acer intelcorei77thgen 16gbram nohdd 128gbssd 6gbnvidiagraphicscard 15.6 windows10 79990']\n ['acer predator triton 700 pt715-51'\n  'acer intelcorei77thgen 16gbram 1tbhdd nossd 8gbnvidiagraphicscard 15.6 windows10 300000']\n ['acer nitro 5 an515-51 notebook'\n  'acer intelcorei77thgen 8gbram nohdd 32gbssd 2gbnvidiagraphicscard 15.6 windows10 57990']\n ['acer nitro 5 an515-51'\n  'acer intelcorei77thgen 16gbram nohdd 1tbssd 4gbnvidiagraphicscard 15.6 windows10 69900']\n ['acer sf314-51'\n  'acer intelcorei77thgen 8gbram 1tbhdd nossd intelintegratedhd620 14.0 windows10 61747']\n ['acer spin 7 sp714-51'\n  'acer intelcorei77thgen 8gbram 1tbhdd 256gbsd intelintegratedhd615 14.0 windows10 120000']\n ['acer predator 17 g9-793'\n  'acer intelcorei77thgen 16gbram 1tbhdd 256gbsd 6gbnvidiagraphicscard 17.3 windows10 100000']\n ['acer g3-572'\n  'acer intelcorei77thgen 16gbram 2tbhdd 512gbssd 6gbnvidiagraphicscard 15.6 windows10 102000']\n ['acer predator ph317-51-787b laptop'\n  'acer intelcorei77thgen 16gbram 1tbhdd 256gbsd 6gbnvidiagraphicscard 17.3 windows10 168000']\n ['hp pavilion x360 14-ba078tx laptop'\n  'hp intelcorei77thgen 8gbram 1tbhdd nossd intelintegrateduhd 15.6 windows10 39990']\n ['asus rog gl553vd-fy103t notebook'\n  'asus intelcorei77thgen 8gbram 1tbhdd nossd 4gbnvidiagraphicscard 15.6 windows10 58990']\n ['asus fx503vd-dm111t laptop'\n  'asus intelcorei77thgen 8gbram 1tbhdd nossd 4gbnvidiagraphicscard 15.6 windows10 58990']\n ['asus fx553vd-dm013 laptop'\n  'asus intelcorei77thgen 8gbram 1tbhdd nossd 4gbnvidiagraphicscard 15.6 windows10 58990']]\n"
          ]
        }
      ]
    },
    {
      "source": [
        "## ***see this still works...!!!!!***"
      ],
      "cell_type": "markdown",
      "metadata": {}
    },
    {
      "cell_type": "code",
      "metadata": {
        "id": "AHJPGPCqdHA-"
      },
      "source": [
        "suggest(\"8GBRAM\") "
      ],
      "execution_count": 30,
      "outputs": [
        {
          "output_type": "stream",
          "name": "stdout",
          "text": [
            "[['asus r540ub-dm1197t laptop'\n  'asus intelcorei58thgen 8gbram 1tbhdd nossd 2gbnvidiagraphicscard 15.6 windows10 44990']\n ['asus x509fj-ej502t laptop'\n  'asus intelcorei58thgen 8gbram 1tbhdd nossd 2gbnvidiagraphicscard 15.6 windows10 44990']\n ['asus r540ub-dm723t laptop'\n  'asus intelcorei58thgen 8gbram 1tbhdd nossd 2gbnvidiagraphicscard 15.6 windows10 44990']\n ['asus vivobook x510un-ej328t laptop'\n  'asus intelcorei58thgen 8gbram 1tbhdd nossd 2gbnvidiagraphicscard 15.6 windows10 52990']\n ['asus vivobook x507uf-ej281t laptop'\n  'asus intelcorei58thgen 8gbram 1tbhdd nossd 2gbnvidiagraphicscard 15.6 windows10 45990']\n ['asus vivobook x507ua-ej101t laptop'\n  'asus intelcorei58thgen 8gbram 1tbhdd nossd 2gbnvidiagraphicscard 15.6 windows10 40990']\n ['asus vivobook r542uq-dm252t laptop'\n  'asus intelcorei58thgen 8gbram 1tbhdd nossd 2gbnvidiagraphicscard 15.6 windows10 40990']\n ['asus tuf fx504gd-e4021t laptop'\n  'asus intelcorei58thgen 8gbram 1tbhdd nossd 4gbnvidiagraphicscard 15.6 windows10 59990']\n ['asus f560ud-bq237t gaming laptop'\n  'asus intelcorei58thgen 8gbram 1tbhdd nossd 4gbnvidiagraphicscard 15.6 windows10 52990']\n ['asus fx503vd-dm110t laptop'\n  'asus intelcorei57thgen 8gbram 1tbhdd nossd 2gbnvidiagraphicscard 15.6 windows10 64990']\n ['acer aspire 5 a515-51g'\n  'acer intelcorei58thgen 8gbram 500gb nossd 2gbnvidiagraphicscard 15.6 windows10 52990']\n ['acer aspire a515-54g nx.hfqsi.001 laptop'\n  'acer intelcorei58thgen 8gbram 500gb nossd 2gbnvidiagraphicscard 15.6 windows10 52990']\n ['acer aspire 5 a515-52g'\n  'acer intelcorei58thgen 8gbram 500gb nossd 2gbnvidiagraphicscard 15.6 windows10 49990']\n ['asus k510uq-bq667t laptop'\n  'asus intelcorei58thgen 8gbram 1tbhdd nossd 2gbnvidiagraphicscard 15.6 windows10 47990']\n ['asus vivobook 15 x543ub-dm581t laptop'\n  'asus intelcorei58thgen 8gbram 1tbhdd nossd 2gbnvidiagraphicscard 15.6 windows10 46990']\n ['acer swift 3 sf315-52g'\n  'acer intelcorei58thgen 8gbram 500gb nossd 2gbnvidiagraphicscard 15.6 windows10 56990']\n ['acer swift 3 sf315-51g'\n  'acer intelcorei58thgen 8gbram 500gb nossd 2gbnvidiagraphicscard 15.6 windows10 56990']\n ['asus r542uq-dm164 laptop'\n  'asus intelcorei57thgen 8gbram 1tbhdd nossd 2gbnvidiagraphicscard 15.6 dos 39990']\n ['asus a555lf-xx262t'\n  'asus intelcorei35thgen 8gbram 1tbhdd nossd 2gbnvidiagraphicscard 15.6 windows10 29990']\n ['acer aspire 5 a515-51g'\n  'acer intelcorei58thgen 8gbram 500gb nossd 2gbnvidiagraphicscard 15.6 windows10 48990']\n ['acer aspire 5 a515-51g'\n  'acer intelcorei58thgen 8gbram 500gb nossd 2gbnvidiagraphicscard 15.6 windows10 48990']\n ['acer swift sf314-55g nx.hbjsi.001 laptop'\n  'acer intelcorei58thgen 8gbram 1tbhdd nossd 2gbnvidiagraphicscard 14.0 windows10 54990']\n ['asus k510uq-bq668t laptop'\n  'asus intelcorei58thgen 8gbram 1tbhdd nossd 2gbnvidiagraphicscard 15.6 windows10 51990']\n ['asus x507ub ej214t laptop'\n  'asus intelcorei36thgen 8gbram 1tbhdd nossd 2gbnvidiagraphicscard 15.6 windows10 38990']\n ['asus fx570ud-e4168t laptop'\n  'asus intelcorei58thgen 8gbram 1tbhdd nossd 4gbnvidiagraphicscard 15.6 windows10 57990']\n ['asus vivobook x407uf-ek140t laptop'\n  'asus intelcorei58thgen 8gbram 1tbhdd nossd 2gbnvidiagraphicscard 14.0 windows10 43990']\n ['acer aspire 5 a515-51g'\n  'acer intelcorei57thgen 8gbram 500gb nossd 2gbnvidiagraphicscard 15.6 windows10 44990']\n ['acer aspire 5 a515-51g'\n  'acer intelcorei57thgen 8gbram 500gb nossd 2gbnvidiagraphicscard 15.6 windows10 44990']\n ['lenovo ideapad 330'\n  'lenovo intelcorei37thgen 8gbram 1tbhdd nossd 4gbnvidiagraphicscard 15.6 windows10 52990']\n ['lenovo c340-14iwl'\n  'lenovo intelcorei58thgen 8gbram 1tbhdd nossd intelhd620 14.0 windows10 28990']]\n"
          ]
        }
      ]
    },
    {
      "cell_type": "code",
      "execution_count": null,
      "metadata": {},
      "outputs": [],
      "source": []
    }
  ]
}